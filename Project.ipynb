{
 "cells": [
  {
   "cell_type": "code",
   "execution_count": 12,
   "metadata": {},
   "outputs": [],
   "source": [
    "from sklearn.datasets import make_circles\n",
    "import pandas as pd\n",
    "import matplotlib.pyplot as plt\n",
    "import torch\n",
    "from sklearn.model_selection import train_test_split\n",
    "from torch import nn\n",
    "\n",
    "\n",
    "n_samples = 10000\n",
    "\n",
    "# Create circles\n",
    "X, y = make_circles(n_samples, noise=0.03, random_state=42)"
   ]
  },
  {
   "cell_type": "code",
   "execution_count": 3,
   "metadata": {},
   "outputs": [
    {
     "data": {
      "text/html": [
       "<div>\n",
       "<style scoped>\n",
       "    .dataframe tbody tr th:only-of-type {\n",
       "        vertical-align: middle;\n",
       "    }\n",
       "\n",
       "    .dataframe tbody tr th {\n",
       "        vertical-align: top;\n",
       "    }\n",
       "\n",
       "    .dataframe thead th {\n",
       "        text-align: right;\n",
       "    }\n",
       "</style>\n",
       "<table border=\"1\" class=\"dataframe\">\n",
       "  <thead>\n",
       "    <tr style=\"text-align: right;\">\n",
       "      <th></th>\n",
       "      <th>X1</th>\n",
       "      <th>X2</th>\n",
       "      <th>label</th>\n",
       "    </tr>\n",
       "  </thead>\n",
       "  <tbody>\n",
       "    <tr>\n",
       "      <th>0</th>\n",
       "      <td>0.046469</td>\n",
       "      <td>0.824778</td>\n",
       "      <td>1</td>\n",
       "    </tr>\n",
       "    <tr>\n",
       "      <th>1</th>\n",
       "      <td>1.005063</td>\n",
       "      <td>-0.433352</td>\n",
       "      <td>0</td>\n",
       "    </tr>\n",
       "    <tr>\n",
       "      <th>2</th>\n",
       "      <td>-0.583484</td>\n",
       "      <td>0.794528</td>\n",
       "      <td>0</td>\n",
       "    </tr>\n",
       "    <tr>\n",
       "      <th>3</th>\n",
       "      <td>0.984783</td>\n",
       "      <td>-0.325179</td>\n",
       "      <td>0</td>\n",
       "    </tr>\n",
       "    <tr>\n",
       "      <th>4</th>\n",
       "      <td>0.829930</td>\n",
       "      <td>-0.547223</td>\n",
       "      <td>0</td>\n",
       "    </tr>\n",
       "    <tr>\n",
       "      <th>5</th>\n",
       "      <td>-0.133929</td>\n",
       "      <td>0.776249</td>\n",
       "      <td>1</td>\n",
       "    </tr>\n",
       "    <tr>\n",
       "      <th>6</th>\n",
       "      <td>0.779197</td>\n",
       "      <td>0.645811</td>\n",
       "      <td>0</td>\n",
       "    </tr>\n",
       "    <tr>\n",
       "      <th>7</th>\n",
       "      <td>0.722955</td>\n",
       "      <td>0.173831</td>\n",
       "      <td>1</td>\n",
       "    </tr>\n",
       "    <tr>\n",
       "      <th>8</th>\n",
       "      <td>-0.121807</td>\n",
       "      <td>0.796951</td>\n",
       "      <td>1</td>\n",
       "    </tr>\n",
       "    <tr>\n",
       "      <th>9</th>\n",
       "      <td>0.849529</td>\n",
       "      <td>0.505678</td>\n",
       "      <td>0</td>\n",
       "    </tr>\n",
       "  </tbody>\n",
       "</table>\n",
       "</div>"
      ],
      "text/plain": [
       "         X1        X2  label\n",
       "0  0.046469  0.824778      1\n",
       "1  1.005063 -0.433352      0\n",
       "2 -0.583484  0.794528      0\n",
       "3  0.984783 -0.325179      0\n",
       "4  0.829930 -0.547223      0\n",
       "5 -0.133929  0.776249      1\n",
       "6  0.779197  0.645811      0\n",
       "7  0.722955  0.173831      1\n",
       "8 -0.121807  0.796951      1\n",
       "9  0.849529  0.505678      0"
      ]
     },
     "execution_count": 3,
     "metadata": {},
     "output_type": "execute_result"
    }
   ],
   "source": [
    "# Make DataFrame of circle data\n",
    "import pandas as pd\n",
    "circles = pd.DataFrame({\"X1\": X[:, 0],\n",
    "    \"X2\": X[:, 1],\n",
    "    \"label\": y\n",
    "})\n",
    "circles.head(10)"
   ]
  },
  {
   "cell_type": "code",
   "execution_count": 4,
   "metadata": {},
   "outputs": [
    {
     "data": {
      "text/plain": [
       "1    5000\n",
       "0    5000\n",
       "Name: label, dtype: int64"
      ]
     },
     "execution_count": 4,
     "metadata": {},
     "output_type": "execute_result"
    }
   ],
   "source": [
    "circles.label.value_counts()"
   ]
  },
  {
   "cell_type": "code",
   "execution_count": 6,
   "metadata": {},
   "outputs": [
    {
     "data": {
      "image/png": "[encoded data removed]",
      "text/plain": [
       "<Figure size 432x288 with 1 Axes>"
      ]
     },
     "metadata": {
      "needs_background": "light"
     },
     "output_type": "display_data"
    }
   ],
   "source": [
    "plt.scatter(x=X[:, 0], \n",
    "            y=X[:, 1], \n",
    "            c=y, \n",
    "            cmap=plt.cm.RdYlBu);"
   ]
  },
  {
   "cell_type": "code",
   "execution_count": 9,
   "metadata": {},
   "outputs": [
    {
     "data": {
      "text/plain": [
       "(tensor([[ 0.0465,  0.8248],\n",
       "         [ 1.0051, -0.4334],\n",
       "         [-0.5835,  0.7945],\n",
       "         [ 0.9848, -0.3252],\n",
       "         [ 0.8299, -0.5472]]),\n",
       " tensor([1., 0., 0., 0., 0.]))"
      ]
     },
     "execution_count": 9,
     "metadata": {},
     "output_type": "execute_result"
    }
   ],
   "source": [
    "X = torch.from_numpy(X).type(torch.float)\n",
    "y = torch.from_numpy(y).type(torch.float)\n",
    "\n",
    "X[:5], y[:5]"
   ]
  },
  {
   "cell_type": "code",
   "execution_count": 10,
   "metadata": {},
   "outputs": [
    {
     "data": {
      "text/plain": [
       "(8000, 2000, 8000, 2000)"
      ]
     },
     "execution_count": 10,
     "metadata": {},
     "output_type": "execute_result"
    }
   ],
   "source": [
    "X_train, X_test, y_train, y_test = train_test_split(X, y, test_size=0.2, random_state=42) \n",
    "\n",
    "len(X_train), len(X_test), len(y_train), len(y_test)"
   ]
  },
  {
   "cell_type": "code",
   "execution_count": 17,
   "metadata": {},
   "outputs": [
    {
     "data": {
      "text/plain": [
       "CircleModel(\n",
       "  (layer_1): Linear(in_features=2, out_features=5, bias=True)\n",
       "  (layer15): ReLU()\n",
       "  (layer_2): Linear(in_features=5, out_features=5, bias=True)\n",
       "  (layer25): ReLU()\n",
       "  (layer_3): Linear(in_features=5, out_features=1, bias=True)\n",
       ")"
      ]
     },
     "execution_count": 17,
     "metadata": {},
     "output_type": "execute_result"
    }
   ],
   "source": [
    "class CircleModel(nn.Module):\n",
    "    def __init__(self):\n",
    "        super().__init__()\n",
    "        self.layer_1 = nn.Linear(in_features=2, out_features=5)\n",
    "        self.layer15 = nn.ReLU()\n",
    "        self.layer_2 = nn.Linear(in_features=5, out_features=5)\n",
    "        self.layer25 = nn.ReLU()\n",
    "        self.layer_3 = nn.Linear(in_features=5, out_features=1)\n",
    "    \n",
    "    def forward(self, x):\n",
    "        return self.layer_3(self.layer25(self.layer_2(self.layer15(self.layer_1(x))))) \n",
    "model = CircleModel()\n",
    "model"
   ]
  },
  {
   "cell_type": "code",
   "execution_count": 18,
   "metadata": {},
   "outputs": [],
   "source": [
    "# Setup loss and optimizer \n",
    "loss_fn = nn.BCEWithLogitsLoss()\n",
    "optimizer = torch.optim.SGD(model.parameters(), lr=0.1)"
   ]
  },
  {
   "cell_type": "code",
   "execution_count": 25,
   "metadata": {},
   "outputs": [
    {
     "name": "stdout",
     "output_type": "stream",
     "text": [
      "Epoch: 0 | Loss: 0.66132| Test Loss: 0.66247\n",
      "Epoch: 100 | Loss: 0.65279| Test Loss: 0.65433\n",
      "Epoch: 200 | Loss: 0.64114| Test Loss: 0.64323\n",
      "Epoch: 300 | Loss: 0.62415| Test Loss: 0.62690\n",
      "Epoch: 400 | Loss: 0.59790| Test Loss: 0.60137\n",
      "Epoch: 500 | Loss: 0.55697| Test Loss: 0.56114\n",
      "Epoch: 600 | Loss: 0.49928| Test Loss: 0.50399\n",
      "Epoch: 700 | Loss: 0.43259| Test Loss: 0.43702\n",
      "Epoch: 800 | Loss: 0.36355| Test Loss: 0.36684\n",
      "Epoch: 900 | Loss: 0.41823| Test Loss: 0.42563\n",
      "Epoch: 1000 | Loss: 0.27688| Test Loss: 0.28326\n",
      "Epoch: 1100 | Loss: 0.24066| Test Loss: 0.24805\n",
      "Epoch: 1200 | Loss: 0.22334| Test Loss: 0.23316\n",
      "Epoch: 1300 | Loss: 0.18510| Test Loss: 0.19129\n",
      "Epoch: 1400 | Loss: 0.19044| Test Loss: 0.19879\n",
      "Epoch: 1500 | Loss: 0.15685| Test Loss: 0.16427\n",
      "Epoch: 1600 | Loss: 0.13266| Test Loss: 0.13756\n",
      "Epoch: 1700 | Loss: 0.15874| Test Loss: 0.16415\n",
      "Epoch: 1800 | Loss: 0.12795| Test Loss: 0.13639\n",
      "Epoch: 1900 | Loss: 0.10873| Test Loss: 0.11372\n",
      "Epoch: 2000 | Loss: 0.09407| Test Loss: 0.09698\n",
      "Epoch: 2100 | Loss: 0.08245| Test Loss: 0.08443\n",
      "Epoch: 2200 | Loss: 0.07380| Test Loss: 0.07567\n",
      "Epoch: 2300 | Loss: 0.06611| Test Loss: 0.06820\n",
      "Epoch: 2400 | Loss: 0.20420| Test Loss: 0.17439\n",
      "Epoch: 2500 | Loss: 0.09958| Test Loss: 0.10517\n",
      "Epoch: 2600 | Loss: 0.08043| Test Loss: 0.08493\n",
      "Epoch: 2700 | Loss: 0.06872| Test Loss: 0.07287\n",
      "Epoch: 2800 | Loss: 0.06062| Test Loss: 0.06263\n",
      "Epoch: 2900 | Loss: 0.05418| Test Loss: 0.05488\n",
      "Epoch: 3000 | Loss: 0.04934| Test Loss: 0.04980\n",
      "Epoch: 3100 | Loss: 0.04505| Test Loss: 0.04585\n",
      "Epoch: 3200 | Loss: 0.04109| Test Loss: 0.04234\n",
      "Epoch: 3300 | Loss: 0.03811| Test Loss: 0.03970\n",
      "Epoch: 3400 | Loss: 0.03563| Test Loss: 0.03744\n",
      "Epoch: 3500 | Loss: 0.03334| Test Loss: 0.03519\n",
      "Epoch: 3600 | Loss: 0.03135| Test Loss: 0.03308\n",
      "Epoch: 3700 | Loss: 0.02961| Test Loss: 0.03131\n",
      "Epoch: 3800 | Loss: 0.02804| Test Loss: 0.02981\n",
      "Epoch: 3900 | Loss: 0.02660| Test Loss: 0.02845\n",
      "Epoch: 4000 | Loss: 0.02534| Test Loss: 0.02728\n",
      "Epoch: 4100 | Loss: 0.02424| Test Loss: 0.02623\n",
      "Epoch: 4200 | Loss: 0.02326| Test Loss: 0.02536\n",
      "Epoch: 4300 | Loss: 0.02240| Test Loss: 0.02456\n",
      "Epoch: 4400 | Loss: 0.02163| Test Loss: 0.02380\n",
      "Epoch: 4500 | Loss: 0.02087| Test Loss: 0.02304\n",
      "Epoch: 4600 | Loss: 0.02019| Test Loss: 0.02239\n",
      "Epoch: 4700 | Loss: 0.01960| Test Loss: 0.02187\n",
      "Epoch: 4800 | Loss: 0.01900| Test Loss: 0.02145\n",
      "Epoch: 4900 | Loss: 0.01838| Test Loss: 0.02100\n",
      "Epoch: 5000 | Loss: 0.01786| Test Loss: 0.02060\n",
      "Epoch: 5100 | Loss: 0.01737| Test Loss: 0.02023\n",
      "Epoch: 5200 | Loss: 0.01691| Test Loss: 0.01989\n",
      "Epoch: 5300 | Loss: 0.01649| Test Loss: 0.01956\n",
      "Epoch: 5400 | Loss: 0.01611| Test Loss: 0.01922\n",
      "Epoch: 5500 | Loss: 0.01576| Test Loss: 0.01892\n",
      "Epoch: 5600 | Loss: 0.01542| Test Loss: 0.01866\n",
      "Epoch: 5700 | Loss: 0.01512| Test Loss: 0.01839\n",
      "Epoch: 5800 | Loss: 0.01483| Test Loss: 0.01816\n",
      "Epoch: 5900 | Loss: 0.01456| Test Loss: 0.01793\n",
      "Epoch: 6000 | Loss: 0.01431| Test Loss: 0.01770\n",
      "Epoch: 6100 | Loss: 0.01407| Test Loss: 0.01747\n",
      "Epoch: 6200 | Loss: 0.01384| Test Loss: 0.01726\n",
      "Epoch: 6300 | Loss: 0.01363| Test Loss: 0.01705\n",
      "Epoch: 6400 | Loss: 0.01342| Test Loss: 0.01685\n",
      "Epoch: 6500 | Loss: 0.01323| Test Loss: 0.01668\n",
      "Epoch: 6600 | Loss: 0.01304| Test Loss: 0.01650\n",
      "Epoch: 6700 | Loss: 0.01286| Test Loss: 0.01633\n",
      "Epoch: 6800 | Loss: 0.01268| Test Loss: 0.01617\n",
      "Epoch: 6900 | Loss: 0.01252| Test Loss: 0.01600\n",
      "Epoch: 7000 | Loss: 0.01236| Test Loss: 0.01584\n",
      "Epoch: 7100 | Loss: 0.01220| Test Loss: 0.01568\n",
      "Epoch: 7200 | Loss: 0.01205| Test Loss: 0.01553\n",
      "Epoch: 7300 | Loss: 0.01191| Test Loss: 0.01539\n",
      "Epoch: 7400 | Loss: 0.01177| Test Loss: 0.01525\n",
      "Epoch: 7500 | Loss: 0.01164| Test Loss: 0.01511\n",
      "Epoch: 7600 | Loss: 0.01151| Test Loss: 0.01498\n",
      "Epoch: 7700 | Loss: 0.01139| Test Loss: 0.01485\n",
      "Epoch: 7800 | Loss: 0.01127| Test Loss: 0.01473\n",
      "Epoch: 7900 | Loss: 0.01115| Test Loss: 0.01462\n",
      "Epoch: 8000 | Loss: 0.01104| Test Loss: 0.01453\n",
      "Epoch: 8100 | Loss: 0.01093| Test Loss: 0.01442\n",
      "Epoch: 8200 | Loss: 0.01083| Test Loss: 0.01431\n",
      "Epoch: 8300 | Loss: 0.01072| Test Loss: 0.01421\n",
      "Epoch: 8400 | Loss: 0.01062| Test Loss: 0.01410\n",
      "Epoch: 8500 | Loss: 0.01053| Test Loss: 0.01400\n",
      "Epoch: 8600 | Loss: 0.01043| Test Loss: 0.01391\n",
      "Epoch: 8700 | Loss: 0.01034| Test Loss: 0.01381\n",
      "Epoch: 8800 | Loss: 0.01025| Test Loss: 0.01372\n",
      "Epoch: 8900 | Loss: 0.01017| Test Loss: 0.01363\n",
      "Epoch: 9000 | Loss: 0.01008| Test Loss: 0.01354\n",
      "Epoch: 9100 | Loss: 0.01000| Test Loss: 0.01346\n",
      "Epoch: 9200 | Loss: 0.00992| Test Loss: 0.01339\n",
      "Epoch: 9300 | Loss: 0.00985| Test Loss: 0.01331\n",
      "Epoch: 9400 | Loss: 0.00977| Test Loss: 0.01324\n",
      "Epoch: 9500 | Loss: 0.00970| Test Loss: 0.01316\n",
      "Epoch: 9600 | Loss: 0.00963| Test Loss: 0.01309\n",
      "Epoch: 9700 | Loss: 0.00956| Test Loss: 0.01302\n",
      "Epoch: 9800 | Loss: 0.00949| Test Loss: 0.01295\n",
      "Epoch: 9900 | Loss: 0.00943| Test Loss: 0.01289\n"
     ]
    }
   ],
   "source": [
    "torch.manual_seed(42)\n",
    "epochs = 10000\n",
    "\n",
    "for epoch in range(epochs):\n",
    "    # 1. Forward pass\n",
    "    y_logits = model(X_train).squeeze()\n",
    "    y_pred = torch.round(torch.sigmoid(y_logits)) \n",
    "    \n",
    "    # 2. Calculate loss and accuracy\n",
    "    loss = loss_fn(y_logits, y_train) \n",
    "    \n",
    "    # 3. Optimizer zero grad\n",
    "    optimizer.zero_grad()\n",
    "\n",
    "    # 4. Loss backward\n",
    "    loss.backward()\n",
    "\n",
    "    # 5. Optimizer step\n",
    "    optimizer.step()\n",
    "\n",
    "    model.eval()\n",
    "    with torch.inference_mode():\n",
    "      test_logits = model(X_test).squeeze()\n",
    "      test_pred = torch.round(torch.sigmoid(test_logits))\n",
    "      test_loss = loss_fn(test_logits, y_test)\n",
    "\n",
    "    if epoch % 100 == 0:\n",
    "        print(f\"Epoch: {epoch} | Loss: {loss:.5f}| Test Loss: {test_loss:.5f}\")"
   ]
  },
  {
   "cell_type": "code",
   "execution_count": 28,
   "metadata": {},
   "outputs": [
    {
     "data": {
      "text/plain": [
       "(tensor([1., 1., 0., 1., 0., 1., 1., 1., 1., 1.]),\n",
       " array([1, 0, 0, 0, 0, 1, 0, 1, 1, 0]))"
      ]
     },
     "execution_count": 28,
     "metadata": {},
     "output_type": "execute_result"
    }
   ],
   "source": [
    "model.eval()\n",
    "with torch.inference_mode():\n",
    "    y_preds = torch.round(torch.sigmoid(model(X_test))).squeeze()\n",
    "y_preds[:10], y[:10]"
   ]
  },
  {
   "cell_type": "code",
   "execution_count": 29,
   "metadata": {},
   "outputs": [
    {
     "name": "stdout",
     "output_type": "stream",
     "text": [
      "helper_functions.py already exists, skipping download\n"
     ]
    }
   ],
   "source": [
    "### Copied\n",
    "import requests\n",
    "from pathlib import Path \n",
    "\n",
    "# Download helper functions from Learn PyTorch repo (if not already downloaded)\n",
    "if Path(\"helper_functions.py\").is_file():\n",
    "  print(\"helper_functions.py already exists, skipping download\")\n",
    "else:\n",
    "  print(\"Downloading helper_functions.py\")\n",
    "  request = requests.get(\"https://raw.githubusercontent.com/mrdbourke/pytorch-deep-learning/main/helper_functions.py\")\n",
    "  with open(\"helper_functions.py\", \"wb\") as f:\n",
    "    f.write(request.content)\n",
    "\n",
    "from helper_functions import plot_predictions, plot_decision_boundary"
   ]
  },
  {
   "cell_type": "code",
   "execution_count": 32,
   "metadata": {},
   "outputs": [
    {
     "data": {
      "image/png": "[encoded data removed]",
      "text/plain": [
       "<Figure size 432x288 with 1 Axes>"
      ]
     },
     "metadata": {
      "needs_background": "light"
     },
     "output_type": "display_data"
    }
   ],
   "source": [
    "plot_decision_boundary(model, X_test, y_test) # model_3 = has non-linearity"
   ]
  },
  {
   "cell_type": "code",
   "execution_count": null,
   "metadata": {},
   "outputs": [],
   "source": []
  }
 ],
 "metadata": {
  "kernelspec": {
   "display_name": "Python 3",
   "language": "python",
   "name": "python3"
  },
  "language_info": {
   "codemirror_mode": {
    "name": "ipython",
    "version": 3
   },
   "file_extension": ".py",
   "mimetype": "text/x-python",
   "name": "python",
   "nbconvert_exporter": "python",
   "pygments_lexer": "ipython3",
   "version": "3.8.13"
  },
  "orig_nbformat": 4
 },
 "nbformat": 4,
 "nbformat_minor": 2
}
